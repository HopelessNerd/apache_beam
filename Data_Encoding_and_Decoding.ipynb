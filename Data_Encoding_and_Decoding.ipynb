{
  "nbformat": 4,
  "nbformat_minor": 0,
  "metadata": {
    "colab": {
      "name": "Data Encoding and Decoding.ipynb",
      "provenance": [],
      "collapsed_sections": []
    },
    "kernelspec": {
      "name": "python3",
      "display_name": "Python 3"
    }
  },
  "cells": [
    {
      "cell_type": "markdown",
      "metadata": {
        "id": "84PrDpTZV1Vc",
        "colab_type": "text"
      },
      "source": [
        "# Installation\n",
        "Run the following command to install apache-beam\n",
        "\n",
        "Note: To run pipeline on the google colab environemnt, no need to install/configure runners. Each session in the colab is assigned with new virtual environment which forces us to install apache beam every time a new session is created"
      ]
    },
    {
      "cell_type": "code",
      "metadata": {
        "id": "VI1qMdHFV2NU",
        "colab_type": "code",
        "colab": {}
      },
      "source": [
        "!{'pip install apache-beam'}"
      ],
      "execution_count": 0,
      "outputs": []
    },
    {
      "cell_type": "markdown",
      "metadata": {
        "id": "JZO0yFNFGefC",
        "colab_type": "text"
      },
      "source": [
        "# Data encoding and Type safety\n",
        "\n",
        "When Beam runners execute your pipeline, they often need to materialize the intermediate data in your PCollections, which requires converting elements to and from byte strings. The Beam SDKs use objects called Coders to describe how the elements of a given PCollection may be encoded and decoded.\n"
      ]
    },
    {
      "cell_type": "code",
      "metadata": {
        "id": "frot3ZVIGWLY",
        "colab_type": "code",
        "outputId": "627df2f8-39fd-404c-d01d-61cbce4cbc1c",
        "colab": {
          "base_uri": "https://localhost:8080/",
          "height": 34
        }
      },
      "source": [
        "from apache_beam import coders\n",
        "coders.registry.get_coder(int)\n",
        "#coders.registry.register_coder(int, coders.FloatCoder)"
      ],
      "execution_count": 0,
      "outputs": [
        {
          "output_type": "execute_result",
          "data": {
            "text/plain": [
              "FloatCoder"
            ]
          },
          "metadata": {
            "tags": []
          },
          "execution_count": 6
        }
      ]
    },
    {
      "cell_type": "markdown",
      "metadata": {
        "id": "vbWLWX2dZJ0K",
        "colab_type": "text"
      },
      "source": [
        "# Type Safety\n",
        "\n",
        "Type safety is prevention of typed errors in a programming language where type error means when someone attempts to perform an operation on a value that does not support that operation\n"
      ]
    },
    {
      "cell_type": "code",
      "metadata": {
        "id": "QPbvQs32XFiI",
        "colab_type": "code",
        "outputId": "120a7a14-fcca-4074-882f-f5392fb5ff42",
        "colab": {
          "base_uri": "https://localhost:8080/",
          "height": 374
        }
      },
      "source": [
        "# import beam module\n",
        "import apache_beam as beam\n",
        "\n",
        "p = beam.Pipeline()\n",
        "\n",
        "@beam.typehints.with_input_types(int)\n",
        "class FilterEvensDoFn(beam.DoFn):\n",
        "  def process(self, element):\n",
        "    if element % 2 == 0:\n",
        "      yield element\n",
        "\n",
        "evens = ( p\n",
        "         | beam.Create(['1','2','3'])\n",
        "         | beam.ParDo(FilterEvensDoFn()) \n",
        "        )\n",
        "  \n",
        "p.run()\n",
        "\n",
        "\n",
        "import apache_beam as beam\n",
        "\n",
        "p = beam.Pipeline()\n",
        "\n",
        "evens = ( p \n",
        "         | beam.Create(['one','two','three']) \n",
        "         | beam.Filter(lambda x: x % 2 == 0).with_input_types(int) \n",
        "        )\n",
        "  \n",
        "p.run()"
      ],
      "execution_count": 0,
      "outputs": [
        {
          "output_type": "error",
          "ename": "TypeCheckError",
          "evalue": "ignored",
          "traceback": [
            "\u001b[0;31m---------------------------------------------------------------------------\u001b[0m",
            "\u001b[0;31mTypeCheckError\u001b[0m                            Traceback (most recent call last)",
            "\u001b[0;32m<ipython-input-9-78e0382c70c7>\u001b[0m in \u001b[0;36m<module>\u001b[0;34m()\u001b[0m\n\u001b[1;32m     11\u001b[0m evens = ( p\n\u001b[1;32m     12\u001b[0m          \u001b[0;34m|\u001b[0m \u001b[0mbeam\u001b[0m\u001b[0;34m.\u001b[0m\u001b[0mCreate\u001b[0m\u001b[0;34m(\u001b[0m\u001b[0;34m[\u001b[0m\u001b[0;34m'1'\u001b[0m\u001b[0;34m,\u001b[0m\u001b[0;34m'2'\u001b[0m\u001b[0;34m,\u001b[0m\u001b[0;34m'3'\u001b[0m\u001b[0;34m]\u001b[0m\u001b[0;34m)\u001b[0m\u001b[0;34m\u001b[0m\u001b[0;34m\u001b[0m\u001b[0m\n\u001b[0;32m---> 13\u001b[0;31m          \u001b[0;34m|\u001b[0m \u001b[0mbeam\u001b[0m\u001b[0;34m.\u001b[0m\u001b[0mParDo\u001b[0m\u001b[0;34m(\u001b[0m\u001b[0mFilterEvensDoFn\u001b[0m\u001b[0;34m(\u001b[0m\u001b[0;34m)\u001b[0m\u001b[0;34m)\u001b[0m\u001b[0;34m\u001b[0m\u001b[0;34m\u001b[0m\u001b[0m\n\u001b[0m\u001b[1;32m     14\u001b[0m         )\n\u001b[1;32m     15\u001b[0m \u001b[0;34m\u001b[0m\u001b[0m\n",
            "\u001b[0;32m/usr/local/lib/python3.6/dist-packages/apache_beam/pvalue.py\u001b[0m in \u001b[0;36m__or__\u001b[0;34m(self, ptransform)\u001b[0m\n\u001b[1;32m    136\u001b[0m \u001b[0;34m\u001b[0m\u001b[0m\n\u001b[1;32m    137\u001b[0m   \u001b[0;32mdef\u001b[0m \u001b[0m__or__\u001b[0m\u001b[0;34m(\u001b[0m\u001b[0mself\u001b[0m\u001b[0;34m,\u001b[0m \u001b[0mptransform\u001b[0m\u001b[0;34m)\u001b[0m\u001b[0;34m:\u001b[0m\u001b[0;34m\u001b[0m\u001b[0;34m\u001b[0m\u001b[0m\n\u001b[0;32m--> 138\u001b[0;31m     \u001b[0;32mreturn\u001b[0m \u001b[0mself\u001b[0m\u001b[0;34m.\u001b[0m\u001b[0mpipeline\u001b[0m\u001b[0;34m.\u001b[0m\u001b[0mapply\u001b[0m\u001b[0;34m(\u001b[0m\u001b[0mptransform\u001b[0m\u001b[0;34m,\u001b[0m \u001b[0mself\u001b[0m\u001b[0;34m)\u001b[0m\u001b[0;34m\u001b[0m\u001b[0;34m\u001b[0m\u001b[0m\n\u001b[0m\u001b[1;32m    139\u001b[0m \u001b[0;34m\u001b[0m\u001b[0m\n\u001b[1;32m    140\u001b[0m \u001b[0;34m\u001b[0m\u001b[0m\n",
            "\u001b[0;32m/usr/local/lib/python3.6/dist-packages/apache_beam/pipeline.py\u001b[0m in \u001b[0;36mapply\u001b[0;34m(self, transform, pvalueish, label)\u001b[0m\n\u001b[1;32m    573\u001b[0m     \u001b[0mtype_options\u001b[0m \u001b[0;34m=\u001b[0m \u001b[0mself\u001b[0m\u001b[0;34m.\u001b[0m\u001b[0m_options\u001b[0m\u001b[0;34m.\u001b[0m\u001b[0mview_as\u001b[0m\u001b[0;34m(\u001b[0m\u001b[0mTypeOptions\u001b[0m\u001b[0;34m)\u001b[0m\u001b[0;34m\u001b[0m\u001b[0;34m\u001b[0m\u001b[0m\n\u001b[1;32m    574\u001b[0m     \u001b[0;32mif\u001b[0m \u001b[0mtype_options\u001b[0m\u001b[0;34m.\u001b[0m\u001b[0mpipeline_type_check\u001b[0m\u001b[0;34m:\u001b[0m\u001b[0;34m\u001b[0m\u001b[0;34m\u001b[0m\u001b[0m\n\u001b[0;32m--> 575\u001b[0;31m       \u001b[0mtransform\u001b[0m\u001b[0;34m.\u001b[0m\u001b[0mtype_check_inputs\u001b[0m\u001b[0;34m(\u001b[0m\u001b[0mpvalueish\u001b[0m\u001b[0;34m)\u001b[0m\u001b[0;34m\u001b[0m\u001b[0;34m\u001b[0m\u001b[0m\n\u001b[0m\u001b[1;32m    576\u001b[0m \u001b[0;34m\u001b[0m\u001b[0m\n\u001b[1;32m    577\u001b[0m     \u001b[0mpvalueish_result\u001b[0m \u001b[0;34m=\u001b[0m \u001b[0mself\u001b[0m\u001b[0;34m.\u001b[0m\u001b[0mrunner\u001b[0m\u001b[0;34m.\u001b[0m\u001b[0mapply\u001b[0m\u001b[0;34m(\u001b[0m\u001b[0mtransform\u001b[0m\u001b[0;34m,\u001b[0m \u001b[0mpvalueish\u001b[0m\u001b[0;34m,\u001b[0m \u001b[0mself\u001b[0m\u001b[0;34m.\u001b[0m\u001b[0m_options\u001b[0m\u001b[0;34m)\u001b[0m\u001b[0;34m\u001b[0m\u001b[0;34m\u001b[0m\u001b[0m\n",
            "\u001b[0;32m/usr/local/lib/python3.6/dist-packages/apache_beam/transforms/ptransform.py\u001b[0m in \u001b[0;36mtype_check_inputs\u001b[0;34m(self, pvalueish)\u001b[0m\n\u001b[1;32m    863\u001b[0m           raise TypeCheckError(\n\u001b[1;32m    864\u001b[0m               \u001b[0;34m'Type hint violation for \\'%s\\': requires %s but got %s for %s'\u001b[0m\u001b[0;34m\u001b[0m\u001b[0;34m\u001b[0m\u001b[0m\n\u001b[0;32m--> 865\u001b[0;31m               % (self.label, hint, bindings[arg], arg))\n\u001b[0m\u001b[1;32m    866\u001b[0m \u001b[0;34m\u001b[0m\u001b[0m\n\u001b[1;32m    867\u001b[0m   \u001b[0;32mdef\u001b[0m \u001b[0m_process_argspec_fn\u001b[0m\u001b[0;34m(\u001b[0m\u001b[0mself\u001b[0m\u001b[0;34m)\u001b[0m\u001b[0;34m:\u001b[0m\u001b[0;34m\u001b[0m\u001b[0;34m\u001b[0m\u001b[0m\n",
            "\u001b[0;31mTypeCheckError\u001b[0m: Type hint violation for 'Cell 9: ParDo(FilterEvensDoFn)': requires <class 'int'> but got <class 'str'> for element"
          ]
        }
      ]
    },
    {
      "cell_type": "markdown",
      "metadata": {
        "id": "iSO7dL2hpXq2",
        "colab_type": "text"
      },
      "source": [
        "# An example for type hints\n",
        "\n",
        "- **Typehints:**\n",
        "\t\t○ Inline: Provided during pipeline construction (on Transforms)\n",
        "\t\t○ Outline: Provided as properties of the DoFn using decorators\n",
        "\t\t○ Simple type hint\n",
        "\t\t\tInlcudes primitive types like int, str, user defined classes\n",
        "\t\t○ Parametrized type hint\n",
        "\t\t\tIncludes nested types, basically for container Python objects. Ex-List, Tuple, List[Tuple[int, str, str]]\n",
        "\t\t○ Special typehint\n",
        "\t\t\tIncludes those special types which were introduced in PEP 484"
      ]
    },
    {
      "cell_type": "code",
      "metadata": {
        "id": "xZXjEzrgn1DG",
        "colab_type": "code",
        "colab": {}
      },
      "source": [
        "import apache_beam as beam\n",
        "import typing\n",
        "\n",
        "class Employee(object):\n",
        "  def __init__(self, id, name):\n",
        "    self.id = id\n",
        "    self.name = name\n",
        "\n",
        "class EmployeeCoder(beam.coders.Coder):\n",
        "\n",
        "  def encode(self, employee):\n",
        "    return ('%s:%s' % (employee.id, employee.name)).encode('utf-8')\n",
        "\n",
        "  def decode(self, s):\n",
        "    return Employee(*s.decode('utf-8').split(':'))\n",
        "\n",
        "  def is_deterministic(self):\n",
        "    return True\n",
        "\n",
        "beam.coders.registry.register_coder(Employee, EmployeeCoder)\n",
        "\n",
        "def split_file(input):\n",
        "  name, id, salary = input.split(',')\n",
        "  return Employee(id, name), int(salary)\n",
        "\n",
        "result = (\n",
        "    p\n",
        "\t| beam.io.ReadFromText('data.txt')\n",
        "    | beam.Map(split_file)\n",
        "    | beam.CombinePerKey(sum).with_input_types(typing.Tuple[Employee, int])\n",
        "\t)\n",
        "\t\n",
        "p.run()\t"
      ],
      "execution_count": 0,
      "outputs": []
    }
  ]
}